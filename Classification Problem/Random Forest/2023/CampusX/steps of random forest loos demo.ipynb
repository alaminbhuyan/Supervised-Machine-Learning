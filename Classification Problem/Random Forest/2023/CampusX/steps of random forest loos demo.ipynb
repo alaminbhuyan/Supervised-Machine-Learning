{
 "cells": [
  {
   "cell_type": "markdown",
   "id": "a33a362f",
   "metadata": {},
   "source": [
    "Random forest is an ensembel technique. which used multiple decision tree. Let's understand with an very good example:\n",
    "Suppose, you have a dataset that contains 1000 rows. You assign 5 decision tree and you decide you will give 300 rows each decision tree. This will happen random sampling. Three way to do random sampling, they are:\n",
    "\n",
    "1) row sampling\n",
    "\n",
    "2) column sampling\n",
    "\n",
    "3) row and column sampling\n",
    "\n",
    "`Another two type of sampling:`\n",
    "\n",
    "1) row or column sampling with repalcement (one row can be occur multiple time)\n",
    "\n",
    "2) row or column sampling without replacement (one row occur only one time)\n",
    "\n",
    "Using this 300 rows you will train your decision tree. When new test data or point will be come you will give this to the all decsion tree and they will predict and output. If it is classification  problem then output will be 0 or 1. Then we will apply voting. If number of output 1 is more then output will be 1 and vise=versa. For regrission problem we just take the mean value."
   ]
  },
  {
   "cell_type": "code",
   "execution_count": 1,
   "id": "b0d14e97",
   "metadata": {},
   "outputs": [],
   "source": [
    "import numpy as np\n",
    "import pandas as pd\n",
    "import random\n",
    "import sklearn\n",
    "from sklearn.datasets import make_classification\n",
    "from sklearn.ensemble import RandomForestClassifier\n",
    "from sklearn.tree import DecisionTreeClassifier\n",
    "from sklearn.tree import plot_tree\n",
    "import matplotlib.pyplot as plt\n",
    "import matplotlib\n",
    "import warnings\n",
    "\n",
    "warnings.filterwarnings('ignore')"
   ]
  },
  {
   "cell_type": "code",
   "execution_count": 2,
   "id": "7a8bb774",
   "metadata": {},
   "outputs": [
    {
     "name": "stdout",
     "output_type": "stream",
     "text": [
      "version numpy: 1.24.1\n",
      "version pandas: 1.5.2\n",
      "version sklear: 1.2.0\n",
      "version matplotlib: 1.2.0\n"
     ]
    }
   ],
   "source": [
    "print(\"version numpy:\",np.__version__)\n",
    "print(\"version pandas:\",pd.__version__)\n",
    "print(\"version sklear:\",sklearn.__version__)\n",
    "print(\"version matplotlib:\",sklearn.__version__)\n",
    "\n",
    "# version numpy: 1.24.1\n",
    "# version pandas: 1.5.2\n",
    "# version sklear: 1.2.0\n",
    "# version matplotlib: 1.2.0"
   ]
  },
  {
   "cell_type": "markdown",
   "id": "5ed90f62",
   "metadata": {},
   "source": [
    "n_samples: number of rows\n",
    "\n",
    "n_features: number of columns\n",
    "    \n",
    "n_informative : int, default=2\n",
    "    The number of informative features. Each class is composed of a number\n",
    "    of gaussian clusters each located around the vertices of a hypercube\n",
    "    in a subspace of dimension ``n_informative``. For each cluster,\n",
    "    informative features are drawn independently from  N(0, 1) and then\n",
    "    randomly linearly combined within each cluster in order to add\n",
    "    covariance. The clusters are then placed on the vertices of the\n",
    "    hypercube.\n",
    "\n",
    "n_redundant : int, default=2\n",
    "    The number of redundant features. These features are generated as\n",
    "    random linear combinations of the informative features.\n",
    "\n",
    "n_repeated : int, default=0\n",
    "    The number of duplicated features, drawn randomly from the informative\n",
    "    and the redundant features.\n",
    "\n",
    "n_classes : int, default=2\n",
    "    The number of classes (or labels) of the classification problem.\n",
    "\n",
    "n_clusters_per_class : int, default=2\n",
    "    The number of clusters per class."
   ]
  },
  {
   "cell_type": "code",
   "execution_count": 3,
   "id": "3b6a0943",
   "metadata": {},
   "outputs": [],
   "source": [
    "# make toy dataset\n",
    "\n",
    "X, y = make_classification(n_samples=100, n_features=5, n_informative=5, n_redundant=0, n_clusters_per_class=1)"
   ]
  },
  {
   "cell_type": "code",
   "execution_count": 4,
   "id": "90906abe",
   "metadata": {},
   "outputs": [
    {
     "data": {
      "text/plain": [
       "(100, 5)"
      ]
     },
     "execution_count": 4,
     "metadata": {},
     "output_type": "execute_result"
    }
   ],
   "source": [
    "X.shape"
   ]
  },
  {
   "cell_type": "code",
   "execution_count": 5,
   "id": "8359324d",
   "metadata": {},
   "outputs": [
    {
     "data": {
      "text/plain": [
       "numpy.ndarray"
      ]
     },
     "execution_count": 5,
     "metadata": {},
     "output_type": "execute_result"
    }
   ],
   "source": [
    "type(X)"
   ]
  },
  {
   "cell_type": "code",
   "execution_count": 6,
   "id": "5b3a82e4",
   "metadata": {},
   "outputs": [
    {
     "data": {
      "text/plain": [
       "2"
      ]
     },
     "execution_count": 6,
     "metadata": {},
     "output_type": "execute_result"
    }
   ],
   "source": [
    "X.ndim"
   ]
  },
  {
   "cell_type": "code",
   "execution_count": 7,
   "id": "30602593",
   "metadata": {},
   "outputs": [
    {
     "data": {
      "text/plain": [
       "array([1, 0, 1, 0, 1, 1, 1, 0, 0, 1, 0, 0, 1, 0, 1, 1, 1, 1, 1, 1, 1, 1,\n",
       "       0, 0, 0, 0, 1, 0, 0, 0, 1, 1, 0, 0, 0, 1, 0, 1, 1, 1, 0, 0, 1, 1,\n",
       "       0, 0, 0, 1, 0, 0, 1, 1, 1, 0, 0, 0, 1, 1, 1, 1, 0, 0, 1, 1, 1, 0,\n",
       "       0, 0, 0, 1, 0, 0, 0, 1, 1, 1, 1, 1, 0, 1, 0, 0, 1, 1, 1, 1, 0, 0,\n",
       "       0, 0, 0, 1, 0, 1, 0, 1, 1, 0, 0, 0])"
      ]
     },
     "execution_count": 7,
     "metadata": {},
     "output_type": "execute_result"
    }
   ],
   "source": [
    "y"
   ]
  },
  {
   "cell_type": "code",
   "execution_count": 8,
   "id": "6edd8761",
   "metadata": {},
   "outputs": [],
   "source": [
    "# Create dataframe\n",
    "\n",
    "df = pd.DataFrame(data=X, columns=['col1','col2','col3','col4','col5'])\n",
    "\n",
    "df[\"target\"] = y"
   ]
  },
  {
   "cell_type": "code",
   "execution_count": 9,
   "id": "84fec283",
   "metadata": {},
   "outputs": [
    {
     "data": {
      "text/html": [
       "<div>\n",
       "<style scoped>\n",
       "    .dataframe tbody tr th:only-of-type {\n",
       "        vertical-align: middle;\n",
       "    }\n",
       "\n",
       "    .dataframe tbody tr th {\n",
       "        vertical-align: top;\n",
       "    }\n",
       "\n",
       "    .dataframe thead th {\n",
       "        text-align: right;\n",
       "    }\n",
       "</style>\n",
       "<table border=\"1\" class=\"dataframe\">\n",
       "  <thead>\n",
       "    <tr style=\"text-align: right;\">\n",
       "      <th></th>\n",
       "      <th>col1</th>\n",
       "      <th>col2</th>\n",
       "      <th>col3</th>\n",
       "      <th>col4</th>\n",
       "      <th>col5</th>\n",
       "      <th>target</th>\n",
       "    </tr>\n",
       "  </thead>\n",
       "  <tbody>\n",
       "    <tr>\n",
       "      <th>0</th>\n",
       "      <td>1.299273</td>\n",
       "      <td>1.697877</td>\n",
       "      <td>1.594683</td>\n",
       "      <td>-0.589325</td>\n",
       "      <td>-0.473122</td>\n",
       "      <td>1</td>\n",
       "    </tr>\n",
       "    <tr>\n",
       "      <th>1</th>\n",
       "      <td>2.359186</td>\n",
       "      <td>2.375932</td>\n",
       "      <td>0.166922</td>\n",
       "      <td>-0.183295</td>\n",
       "      <td>2.457595</td>\n",
       "      <td>0</td>\n",
       "    </tr>\n",
       "    <tr>\n",
       "      <th>2</th>\n",
       "      <td>0.353580</td>\n",
       "      <td>0.537795</td>\n",
       "      <td>0.337908</td>\n",
       "      <td>-0.659744</td>\n",
       "      <td>-0.426094</td>\n",
       "      <td>1</td>\n",
       "    </tr>\n",
       "    <tr>\n",
       "      <th>3</th>\n",
       "      <td>0.925370</td>\n",
       "      <td>1.281563</td>\n",
       "      <td>0.549417</td>\n",
       "      <td>0.067674</td>\n",
       "      <td>0.448080</td>\n",
       "      <td>0</td>\n",
       "    </tr>\n",
       "    <tr>\n",
       "      <th>4</th>\n",
       "      <td>0.083152</td>\n",
       "      <td>1.856219</td>\n",
       "      <td>0.229615</td>\n",
       "      <td>-0.557914</td>\n",
       "      <td>-1.770229</td>\n",
       "      <td>1</td>\n",
       "    </tr>\n",
       "  </tbody>\n",
       "</table>\n",
       "</div>"
      ],
      "text/plain": [
       "       col1      col2      col3      col4      col5  target\n",
       "0  1.299273  1.697877  1.594683 -0.589325 -0.473122       1\n",
       "1  2.359186  2.375932  0.166922 -0.183295  2.457595       0\n",
       "2  0.353580  0.537795  0.337908 -0.659744 -0.426094       1\n",
       "3  0.925370  1.281563  0.549417  0.067674  0.448080       0\n",
       "4  0.083152  1.856219  0.229615 -0.557914 -1.770229       1"
      ]
     },
     "execution_count": 9,
     "metadata": {},
     "output_type": "execute_result"
    }
   ],
   "source": [
    "df.head()"
   ]
  },
  {
   "cell_type": "markdown",
   "id": "b7c7691f",
   "metadata": {},
   "source": [
    "### Apply row sampling"
   ]
  },
  {
   "cell_type": "code",
   "execution_count": 10,
   "id": "da765df9",
   "metadata": {},
   "outputs": [],
   "source": [
    "# function for row sampling with replacement\n",
    "\n",
    "def sample_rows(df, percent):\n",
    "    return df.sample(int(percent*df.shape[0]),replace=True)"
   ]
  },
  {
   "cell_type": "code",
   "execution_count": 11,
   "id": "2bd6193d",
   "metadata": {},
   "outputs": [],
   "source": [
    "# create our model\n",
    "\n",
    "tree1 = DecisionTreeClassifier()\n",
    "tree2 = DecisionTreeClassifier()\n",
    "tree3 = DecisionTreeClassifier()"
   ]
  },
  {
   "cell_type": "code",
   "execution_count": 12,
   "id": "c56215ec",
   "metadata": {},
   "outputs": [
    {
     "data": {
      "text/html": [
       "<div>\n",
       "<style scoped>\n",
       "    .dataframe tbody tr th:only-of-type {\n",
       "        vertical-align: middle;\n",
       "    }\n",
       "\n",
       "    .dataframe tbody tr th {\n",
       "        vertical-align: top;\n",
       "    }\n",
       "\n",
       "    .dataframe thead th {\n",
       "        text-align: right;\n",
       "    }\n",
       "</style>\n",
       "<table border=\"1\" class=\"dataframe\">\n",
       "  <thead>\n",
       "    <tr style=\"text-align: right;\">\n",
       "      <th></th>\n",
       "      <th>col1</th>\n",
       "      <th>col2</th>\n",
       "      <th>col3</th>\n",
       "      <th>col4</th>\n",
       "      <th>col5</th>\n",
       "      <th>target</th>\n",
       "    </tr>\n",
       "  </thead>\n",
       "  <tbody>\n",
       "    <tr>\n",
       "      <th>6</th>\n",
       "      <td>-1.020511</td>\n",
       "      <td>3.195873</td>\n",
       "      <td>2.090930</td>\n",
       "      <td>-1.283801</td>\n",
       "      <td>-2.399772</td>\n",
       "      <td>1</td>\n",
       "    </tr>\n",
       "    <tr>\n",
       "      <th>47</th>\n",
       "      <td>2.227416</td>\n",
       "      <td>2.354978</td>\n",
       "      <td>0.068726</td>\n",
       "      <td>-0.876555</td>\n",
       "      <td>-2.871565</td>\n",
       "      <td>1</td>\n",
       "    </tr>\n",
       "    <tr>\n",
       "      <th>98</th>\n",
       "      <td>0.664053</td>\n",
       "      <td>1.553824</td>\n",
       "      <td>0.320528</td>\n",
       "      <td>-3.021912</td>\n",
       "      <td>0.885366</td>\n",
       "      <td>0</td>\n",
       "    </tr>\n",
       "    <tr>\n",
       "      <th>97</th>\n",
       "      <td>0.383216</td>\n",
       "      <td>1.606188</td>\n",
       "      <td>-0.499905</td>\n",
       "      <td>-0.780731</td>\n",
       "      <td>1.497626</td>\n",
       "      <td>0</td>\n",
       "    </tr>\n",
       "    <tr>\n",
       "      <th>55</th>\n",
       "      <td>2.542754</td>\n",
       "      <td>2.624253</td>\n",
       "      <td>-0.469755</td>\n",
       "      <td>-1.014868</td>\n",
       "      <td>2.215618</td>\n",
       "      <td>0</td>\n",
       "    </tr>\n",
       "    <tr>\n",
       "      <th>23</th>\n",
       "      <td>0.364054</td>\n",
       "      <td>1.213246</td>\n",
       "      <td>-0.393646</td>\n",
       "      <td>-1.969158</td>\n",
       "      <td>1.224036</td>\n",
       "      <td>0</td>\n",
       "    </tr>\n",
       "    <tr>\n",
       "      <th>14</th>\n",
       "      <td>-0.458305</td>\n",
       "      <td>0.446473</td>\n",
       "      <td>-0.583562</td>\n",
       "      <td>-0.586006</td>\n",
       "      <td>-0.698311</td>\n",
       "      <td>1</td>\n",
       "    </tr>\n",
       "    <tr>\n",
       "      <th>52</th>\n",
       "      <td>0.500360</td>\n",
       "      <td>-0.548161</td>\n",
       "      <td>1.536851</td>\n",
       "      <td>-1.665579</td>\n",
       "      <td>-1.797114</td>\n",
       "      <td>1</td>\n",
       "    </tr>\n",
       "    <tr>\n",
       "      <th>67</th>\n",
       "      <td>0.174026</td>\n",
       "      <td>-1.297551</td>\n",
       "      <td>3.311259</td>\n",
       "      <td>-3.605014</td>\n",
       "      <td>-1.074984</td>\n",
       "      <td>0</td>\n",
       "    </tr>\n",
       "    <tr>\n",
       "      <th>34</th>\n",
       "      <td>1.706253</td>\n",
       "      <td>2.134751</td>\n",
       "      <td>0.168003</td>\n",
       "      <td>-1.485866</td>\n",
       "      <td>0.773390</td>\n",
       "      <td>0</td>\n",
       "    </tr>\n",
       "    <tr>\n",
       "      <th>46</th>\n",
       "      <td>1.027650</td>\n",
       "      <td>0.993552</td>\n",
       "      <td>0.909847</td>\n",
       "      <td>0.604686</td>\n",
       "      <td>1.002440</td>\n",
       "      <td>0</td>\n",
       "    </tr>\n",
       "    <tr>\n",
       "      <th>3</th>\n",
       "      <td>0.925370</td>\n",
       "      <td>1.281563</td>\n",
       "      <td>0.549417</td>\n",
       "      <td>0.067674</td>\n",
       "      <td>0.448080</td>\n",
       "      <td>0</td>\n",
       "    </tr>\n",
       "    <tr>\n",
       "      <th>59</th>\n",
       "      <td>-0.329695</td>\n",
       "      <td>2.365773</td>\n",
       "      <td>-0.048567</td>\n",
       "      <td>0.057035</td>\n",
       "      <td>-0.070510</td>\n",
       "      <td>1</td>\n",
       "    </tr>\n",
       "    <tr>\n",
       "      <th>51</th>\n",
       "      <td>-0.130106</td>\n",
       "      <td>0.583126</td>\n",
       "      <td>-1.285005</td>\n",
       "      <td>-0.177565</td>\n",
       "      <td>-0.294302</td>\n",
       "      <td>1</td>\n",
       "    </tr>\n",
       "    <tr>\n",
       "      <th>19</th>\n",
       "      <td>-1.530047</td>\n",
       "      <td>0.299533</td>\n",
       "      <td>2.074430</td>\n",
       "      <td>-1.286623</td>\n",
       "      <td>-0.389499</td>\n",
       "      <td>1</td>\n",
       "    </tr>\n",
       "    <tr>\n",
       "      <th>80</th>\n",
       "      <td>1.304044</td>\n",
       "      <td>0.735036</td>\n",
       "      <td>1.996611</td>\n",
       "      <td>-1.103379</td>\n",
       "      <td>1.023437</td>\n",
       "      <td>0</td>\n",
       "    </tr>\n",
       "    <tr>\n",
       "      <th>0</th>\n",
       "      <td>1.299273</td>\n",
       "      <td>1.697877</td>\n",
       "      <td>1.594683</td>\n",
       "      <td>-0.589325</td>\n",
       "      <td>-0.473122</td>\n",
       "      <td>1</td>\n",
       "    </tr>\n",
       "    <tr>\n",
       "      <th>81</th>\n",
       "      <td>0.495417</td>\n",
       "      <td>1.209948</td>\n",
       "      <td>0.228871</td>\n",
       "      <td>0.393122</td>\n",
       "      <td>0.881889</td>\n",
       "      <td>0</td>\n",
       "    </tr>\n",
       "    <tr>\n",
       "      <th>22</th>\n",
       "      <td>3.055786</td>\n",
       "      <td>2.810673</td>\n",
       "      <td>-0.076632</td>\n",
       "      <td>-1.916970</td>\n",
       "      <td>1.573373</td>\n",
       "      <td>0</td>\n",
       "    </tr>\n",
       "    <tr>\n",
       "      <th>72</th>\n",
       "      <td>1.174271</td>\n",
       "      <td>1.079587</td>\n",
       "      <td>0.950805</td>\n",
       "      <td>-2.296329</td>\n",
       "      <td>0.315011</td>\n",
       "      <td>0</td>\n",
       "    </tr>\n",
       "  </tbody>\n",
       "</table>\n",
       "</div>"
      ],
      "text/plain": [
       "        col1      col2      col3      col4      col5  target\n",
       "6  -1.020511  3.195873  2.090930 -1.283801 -2.399772       1\n",
       "47  2.227416  2.354978  0.068726 -0.876555 -2.871565       1\n",
       "98  0.664053  1.553824  0.320528 -3.021912  0.885366       0\n",
       "97  0.383216  1.606188 -0.499905 -0.780731  1.497626       0\n",
       "55  2.542754  2.624253 -0.469755 -1.014868  2.215618       0\n",
       "23  0.364054  1.213246 -0.393646 -1.969158  1.224036       0\n",
       "14 -0.458305  0.446473 -0.583562 -0.586006 -0.698311       1\n",
       "52  0.500360 -0.548161  1.536851 -1.665579 -1.797114       1\n",
       "67  0.174026 -1.297551  3.311259 -3.605014 -1.074984       0\n",
       "34  1.706253  2.134751  0.168003 -1.485866  0.773390       0\n",
       "46  1.027650  0.993552  0.909847  0.604686  1.002440       0\n",
       "3   0.925370  1.281563  0.549417  0.067674  0.448080       0\n",
       "59 -0.329695  2.365773 -0.048567  0.057035 -0.070510       1\n",
       "51 -0.130106  0.583126 -1.285005 -0.177565 -0.294302       1\n",
       "19 -1.530047  0.299533  2.074430 -1.286623 -0.389499       1\n",
       "80  1.304044  0.735036  1.996611 -1.103379  1.023437       0\n",
       "0   1.299273  1.697877  1.594683 -0.589325 -0.473122       1\n",
       "81  0.495417  1.209948  0.228871  0.393122  0.881889       0\n",
       "22  3.055786  2.810673 -0.076632 -1.916970  1.573373       0\n",
       "72  1.174271  1.079587  0.950805 -2.296329  0.315011       0"
      ]
     },
     "execution_count": 12,
     "metadata": {},
     "output_type": "execute_result"
    }
   ],
   "source": [
    "df2 = sample_rows(df, 0.2)\n",
    "\n",
    "df2"
   ]
  },
  {
   "cell_type": "code",
   "execution_count": 13,
   "id": "92d1c6a3",
   "metadata": {},
   "outputs": [],
   "source": [
    "df3 = sample_rows(df, 0.2)\n",
    "df4 = sample_rows(df, 0.2)"
   ]
  },
  {
   "cell_type": "code",
   "execution_count": 14,
   "id": "e9a8611c",
   "metadata": {},
   "outputs": [
    {
     "data": {
      "text/html": [
       "<style>#sk-container-id-1 {color: black;background-color: white;}#sk-container-id-1 pre{padding: 0;}#sk-container-id-1 div.sk-toggleable {background-color: white;}#sk-container-id-1 label.sk-toggleable__label {cursor: pointer;display: block;width: 100%;margin-bottom: 0;padding: 0.3em;box-sizing: border-box;text-align: center;}#sk-container-id-1 label.sk-toggleable__label-arrow:before {content: \"▸\";float: left;margin-right: 0.25em;color: #696969;}#sk-container-id-1 label.sk-toggleable__label-arrow:hover:before {color: black;}#sk-container-id-1 div.sk-estimator:hover label.sk-toggleable__label-arrow:before {color: black;}#sk-container-id-1 div.sk-toggleable__content {max-height: 0;max-width: 0;overflow: hidden;text-align: left;background-color: #f0f8ff;}#sk-container-id-1 div.sk-toggleable__content pre {margin: 0.2em;color: black;border-radius: 0.25em;background-color: #f0f8ff;}#sk-container-id-1 input.sk-toggleable__control:checked~div.sk-toggleable__content {max-height: 200px;max-width: 100%;overflow: auto;}#sk-container-id-1 input.sk-toggleable__control:checked~label.sk-toggleable__label-arrow:before {content: \"▾\";}#sk-container-id-1 div.sk-estimator input.sk-toggleable__control:checked~label.sk-toggleable__label {background-color: #d4ebff;}#sk-container-id-1 div.sk-label input.sk-toggleable__control:checked~label.sk-toggleable__label {background-color: #d4ebff;}#sk-container-id-1 input.sk-hidden--visually {border: 0;clip: rect(1px 1px 1px 1px);clip: rect(1px, 1px, 1px, 1px);height: 1px;margin: -1px;overflow: hidden;padding: 0;position: absolute;width: 1px;}#sk-container-id-1 div.sk-estimator {font-family: monospace;background-color: #f0f8ff;border: 1px dotted black;border-radius: 0.25em;box-sizing: border-box;margin-bottom: 0.5em;}#sk-container-id-1 div.sk-estimator:hover {background-color: #d4ebff;}#sk-container-id-1 div.sk-parallel-item::after {content: \"\";width: 100%;border-bottom: 1px solid gray;flex-grow: 1;}#sk-container-id-1 div.sk-label:hover label.sk-toggleable__label {background-color: #d4ebff;}#sk-container-id-1 div.sk-serial::before {content: \"\";position: absolute;border-left: 1px solid gray;box-sizing: border-box;top: 0;bottom: 0;left: 50%;z-index: 0;}#sk-container-id-1 div.sk-serial {display: flex;flex-direction: column;align-items: center;background-color: white;padding-right: 0.2em;padding-left: 0.2em;position: relative;}#sk-container-id-1 div.sk-item {position: relative;z-index: 1;}#sk-container-id-1 div.sk-parallel {display: flex;align-items: stretch;justify-content: center;background-color: white;position: relative;}#sk-container-id-1 div.sk-item::before, #sk-container-id-1 div.sk-parallel-item::before {content: \"\";position: absolute;border-left: 1px solid gray;box-sizing: border-box;top: 0;bottom: 0;left: 50%;z-index: -1;}#sk-container-id-1 div.sk-parallel-item {display: flex;flex-direction: column;z-index: 1;position: relative;background-color: white;}#sk-container-id-1 div.sk-parallel-item:first-child::after {align-self: flex-end;width: 50%;}#sk-container-id-1 div.sk-parallel-item:last-child::after {align-self: flex-start;width: 50%;}#sk-container-id-1 div.sk-parallel-item:only-child::after {width: 0;}#sk-container-id-1 div.sk-dashed-wrapped {border: 1px dashed gray;margin: 0 0.4em 0.5em 0.4em;box-sizing: border-box;padding-bottom: 0.4em;background-color: white;}#sk-container-id-1 div.sk-label label {font-family: monospace;font-weight: bold;display: inline-block;line-height: 1.2em;}#sk-container-id-1 div.sk-label-container {text-align: center;}#sk-container-id-1 div.sk-container {/* jupyter's `normalize.less` sets `[hidden] { display: none; }` but bootstrap.min.css set `[hidden] { display: none !important; }` so we also need the `!important` here to be able to override the default hidden behavior on the sphinx rendered scikit-learn.org. See: https://github.com/scikit-learn/scikit-learn/issues/21755 */display: inline-block !important;position: relative;}#sk-container-id-1 div.sk-text-repr-fallback {display: none;}</style><div id=\"sk-container-id-1\" class=\"sk-top-container\"><div class=\"sk-text-repr-fallback\"><pre>DecisionTreeClassifier()</pre><b>In a Jupyter environment, please rerun this cell to show the HTML representation or trust the notebook. <br />On GitHub, the HTML representation is unable to render, please try loading this page with nbviewer.org.</b></div><div class=\"sk-container\" hidden><div class=\"sk-item\"><div class=\"sk-estimator sk-toggleable\"><input class=\"sk-toggleable__control sk-hidden--visually\" id=\"sk-estimator-id-1\" type=\"checkbox\" checked><label for=\"sk-estimator-id-1\" class=\"sk-toggleable__label sk-toggleable__label-arrow\">DecisionTreeClassifier</label><div class=\"sk-toggleable__content\"><pre>DecisionTreeClassifier()</pre></div></div></div></div></div>"
      ],
      "text/plain": [
       "DecisionTreeClassifier()"
      ]
     },
     "execution_count": 14,
     "metadata": {},
     "output_type": "execute_result"
    }
   ],
   "source": [
    "tree1.fit(X=df2.iloc[:, 0:-1].values, y=df2.iloc[:, -1].values)\n",
    "tree2.fit(X=df3.iloc[:, 0:-1].values, y=df3.iloc[:, -1].values)\n",
    "tree3.fit(X=df4.iloc[:, 0:-1].values, y=df4.iloc[:, -1].values)"
   ]
  },
  {
   "cell_type": "code",
   "execution_count": 15,
   "id": "1b780205",
   "metadata": {},
   "outputs": [
    {
     "data": {
      "image/png": "[encoded data removed]",
      "text/plain": [
       "<Figure size 640x480 with 1 Axes>"
      ]
     },
     "metadata": {},
     "output_type": "display_data"
    }
   ],
   "source": [
    "plot_tree(decision_tree=tree1)\n",
    "plt.show()"
   ]
  },
  {
   "cell_type": "code",
   "execution_count": 16,
   "id": "52242d96",
   "metadata": {},
   "outputs": [
    {
     "data": {
      "image/png": "[encoded data removed]",
      "text/plain": [
       "<Figure size 640x480 with 1 Axes>"
      ]
     },
     "metadata": {},
     "output_type": "display_data"
    }
   ],
   "source": [
    "plot_tree(decision_tree=tree2)\n",
    "plt.show()"
   ]
  },
  {
   "cell_type": "code",
   "execution_count": 17,
   "id": "ca550529",
   "metadata": {},
   "outputs": [
    {
     "data": {
      "image/png": "[encoded data removed]",
      "text/plain": [
       "<Figure size 640x480 with 1 Axes>"
      ]
     },
     "metadata": {},
     "output_type": "display_data"
    }
   ],
   "source": [
    "plot_tree(decision_tree=tree3)\n",
    "plt.show()"
   ]
  },
  {
   "cell_type": "code",
   "execution_count": 18,
   "id": "705f830d",
   "metadata": {},
   "outputs": [
    {
     "data": {
      "text/plain": [
       "array([0])"
      ]
     },
     "execution_count": 18,
     "metadata": {},
     "output_type": "execute_result"
    }
   ],
   "source": [
    "tree1.predict(X=np.array([-2.430824, -1.979199, -1.552550, 0.641325, -1.059250]).reshape(1,5))"
   ]
  },
  {
   "cell_type": "code",
   "execution_count": 19,
   "id": "ec046716",
   "metadata": {},
   "outputs": [
    {
     "data": {
      "text/plain": [
       "array([1])"
      ]
     },
     "execution_count": 19,
     "metadata": {},
     "output_type": "execute_result"
    }
   ],
   "source": [
    "tree2.predict(X=np.array([-2.430824, -1.979199, -1.552550, 0.641325, -1.059250]).reshape(1,5))"
   ]
  },
  {
   "cell_type": "code",
   "execution_count": 20,
   "id": "bd563282",
   "metadata": {},
   "outputs": [
    {
     "data": {
      "text/plain": [
       "array([1])"
      ]
     },
     "execution_count": 20,
     "metadata": {},
     "output_type": "execute_result"
    }
   ],
   "source": [
    "tree3.predict(X=np.array([-2.430824, -1.979199, -1.552550, 0.641325, -1.059250]).reshape(1,5))"
   ]
  },
  {
   "cell_type": "markdown",
   "id": "80c98e4a",
   "metadata": {},
   "source": [
    "#### `The mejority count 1`"
   ]
  },
  {
   "cell_type": "markdown",
   "id": "0c5beaf7",
   "metadata": {},
   "source": [
    "### Apply column sampling"
   ]
  },
  {
   "cell_type": "code",
   "execution_count": 21,
   "id": "07b6994f",
   "metadata": {},
   "outputs": [
    {
     "data": {
      "text/plain": [
       "['col1', 'col4']"
      ]
     },
     "execution_count": 21,
     "metadata": {},
     "output_type": "execute_result"
    }
   ],
   "source": [
    "random.sample(df.columns.tolist()[:-1], int(0.5*(df.shape[1]-1)))"
   ]
  },
  {
   "cell_type": "code",
   "execution_count": 22,
   "id": "a82f0e61",
   "metadata": {},
   "outputs": [
    {
     "data": {
      "text/plain": [
       "5"
      ]
     },
     "execution_count": 22,
     "metadata": {},
     "output_type": "execute_result"
    }
   ],
   "source": [
    "df.shape[1]-1"
   ]
  },
  {
   "cell_type": "code",
   "execution_count": 23,
   "id": "db5bc2d7",
   "metadata": {},
   "outputs": [
    {
     "data": {
      "text/plain": [
       "['col1', 'col2', 'col3', 'col4', 'col5']"
      ]
     },
     "execution_count": 23,
     "metadata": {},
     "output_type": "execute_result"
    }
   ],
   "source": [
    "df.columns.tolist()[:-1]"
   ]
  },
  {
   "cell_type": "code",
   "execution_count": 24,
   "id": "590df979",
   "metadata": {},
   "outputs": [],
   "source": [
    "# function for feature sampling with replacement\n",
    "\n",
    "def sample_features(df, percent):\n",
    "    cols = random.sample(population=df.columns.tolist()[:-1], k=int(percent*(df.shape[1]-1)))\n",
    "    new_df = df[cols]\n",
    "    new_df['target'] = df[\"target\"]\n",
    "    return new_df"
   ]
  },
  {
   "cell_type": "code",
   "execution_count": 25,
   "id": "b14261de",
   "metadata": {},
   "outputs": [
    {
     "data": {
      "text/html": [
       "<div>\n",
       "<style scoped>\n",
       "    .dataframe tbody tr th:only-of-type {\n",
       "        vertical-align: middle;\n",
       "    }\n",
       "\n",
       "    .dataframe tbody tr th {\n",
       "        vertical-align: top;\n",
       "    }\n",
       "\n",
       "    .dataframe thead th {\n",
       "        text-align: right;\n",
       "    }\n",
       "</style>\n",
       "<table border=\"1\" class=\"dataframe\">\n",
       "  <thead>\n",
       "    <tr style=\"text-align: right;\">\n",
       "      <th></th>\n",
       "      <th>col1</th>\n",
       "      <th>col2</th>\n",
       "      <th>col3</th>\n",
       "      <th>col5</th>\n",
       "      <th>target</th>\n",
       "    </tr>\n",
       "  </thead>\n",
       "  <tbody>\n",
       "    <tr>\n",
       "      <th>0</th>\n",
       "      <td>1.299273</td>\n",
       "      <td>1.697877</td>\n",
       "      <td>1.594683</td>\n",
       "      <td>-0.473122</td>\n",
       "      <td>1</td>\n",
       "    </tr>\n",
       "    <tr>\n",
       "      <th>1</th>\n",
       "      <td>2.359186</td>\n",
       "      <td>2.375932</td>\n",
       "      <td>0.166922</td>\n",
       "      <td>2.457595</td>\n",
       "      <td>0</td>\n",
       "    </tr>\n",
       "    <tr>\n",
       "      <th>2</th>\n",
       "      <td>0.353580</td>\n",
       "      <td>0.537795</td>\n",
       "      <td>0.337908</td>\n",
       "      <td>-0.426094</td>\n",
       "      <td>1</td>\n",
       "    </tr>\n",
       "    <tr>\n",
       "      <th>3</th>\n",
       "      <td>0.925370</td>\n",
       "      <td>1.281563</td>\n",
       "      <td>0.549417</td>\n",
       "      <td>0.448080</td>\n",
       "      <td>0</td>\n",
       "    </tr>\n",
       "    <tr>\n",
       "      <th>4</th>\n",
       "      <td>0.083152</td>\n",
       "      <td>1.856219</td>\n",
       "      <td>0.229615</td>\n",
       "      <td>-1.770229</td>\n",
       "      <td>1</td>\n",
       "    </tr>\n",
       "  </tbody>\n",
       "</table>\n",
       "</div>"
      ],
      "text/plain": [
       "       col1      col2      col3      col5  target\n",
       "0  1.299273  1.697877  1.594683 -0.473122       1\n",
       "1  2.359186  2.375932  0.166922  2.457595       0\n",
       "2  0.353580  0.537795  0.337908 -0.426094       1\n",
       "3  0.925370  1.281563  0.549417  0.448080       0\n",
       "4  0.083152  1.856219  0.229615 -1.770229       1"
      ]
     },
     "execution_count": 25,
     "metadata": {},
     "output_type": "execute_result"
    }
   ],
   "source": [
    "df2 = sample_features(df, 0.8)\n",
    "df2.head()"
   ]
  },
  {
   "cell_type": "code",
   "execution_count": 26,
   "id": "fd7cd4ed",
   "metadata": {},
   "outputs": [],
   "source": [
    "df3 = sample_features(df, 0.8)\n",
    "df4 = sample_features(df, 0.8)"
   ]
  },
  {
   "cell_type": "code",
   "execution_count": 27,
   "id": "6b9f2692",
   "metadata": {},
   "outputs": [],
   "source": [
    "# create our model\n",
    "\n",
    "tree4 = DecisionTreeClassifier()\n",
    "tree5 = DecisionTreeClassifier()\n",
    "tree6 = DecisionTreeClassifier()"
   ]
  },
  {
   "cell_type": "code",
   "execution_count": 28,
   "id": "e031e935",
   "metadata": {},
   "outputs": [
    {
     "data": {
      "text/html": [
       "<style>#sk-container-id-2 {color: black;background-color: white;}#sk-container-id-2 pre{padding: 0;}#sk-container-id-2 div.sk-toggleable {background-color: white;}#sk-container-id-2 label.sk-toggleable__label {cursor: pointer;display: block;width: 100%;margin-bottom: 0;padding: 0.3em;box-sizing: border-box;text-align: center;}#sk-container-id-2 label.sk-toggleable__label-arrow:before {content: \"▸\";float: left;margin-right: 0.25em;color: #696969;}#sk-container-id-2 label.sk-toggleable__label-arrow:hover:before {color: black;}#sk-container-id-2 div.sk-estimator:hover label.sk-toggleable__label-arrow:before {color: black;}#sk-container-id-2 div.sk-toggleable__content {max-height: 0;max-width: 0;overflow: hidden;text-align: left;background-color: #f0f8ff;}#sk-container-id-2 div.sk-toggleable__content pre {margin: 0.2em;color: black;border-radius: 0.25em;background-color: #f0f8ff;}#sk-container-id-2 input.sk-toggleable__control:checked~div.sk-toggleable__content {max-height: 200px;max-width: 100%;overflow: auto;}#sk-container-id-2 input.sk-toggleable__control:checked~label.sk-toggleable__label-arrow:before {content: \"▾\";}#sk-container-id-2 div.sk-estimator input.sk-toggleable__control:checked~label.sk-toggleable__label {background-color: #d4ebff;}#sk-container-id-2 div.sk-label input.sk-toggleable__control:checked~label.sk-toggleable__label {background-color: #d4ebff;}#sk-container-id-2 input.sk-hidden--visually {border: 0;clip: rect(1px 1px 1px 1px);clip: rect(1px, 1px, 1px, 1px);height: 1px;margin: -1px;overflow: hidden;padding: 0;position: absolute;width: 1px;}#sk-container-id-2 div.sk-estimator {font-family: monospace;background-color: #f0f8ff;border: 1px dotted black;border-radius: 0.25em;box-sizing: border-box;margin-bottom: 0.5em;}#sk-container-id-2 div.sk-estimator:hover {background-color: #d4ebff;}#sk-container-id-2 div.sk-parallel-item::after {content: \"\";width: 100%;border-bottom: 1px solid gray;flex-grow: 1;}#sk-container-id-2 div.sk-label:hover label.sk-toggleable__label {background-color: #d4ebff;}#sk-container-id-2 div.sk-serial::before {content: \"\";position: absolute;border-left: 1px solid gray;box-sizing: border-box;top: 0;bottom: 0;left: 50%;z-index: 0;}#sk-container-id-2 div.sk-serial {display: flex;flex-direction: column;align-items: center;background-color: white;padding-right: 0.2em;padding-left: 0.2em;position: relative;}#sk-container-id-2 div.sk-item {position: relative;z-index: 1;}#sk-container-id-2 div.sk-parallel {display: flex;align-items: stretch;justify-content: center;background-color: white;position: relative;}#sk-container-id-2 div.sk-item::before, #sk-container-id-2 div.sk-parallel-item::before {content: \"\";position: absolute;border-left: 1px solid gray;box-sizing: border-box;top: 0;bottom: 0;left: 50%;z-index: -1;}#sk-container-id-2 div.sk-parallel-item {display: flex;flex-direction: column;z-index: 1;position: relative;background-color: white;}#sk-container-id-2 div.sk-parallel-item:first-child::after {align-self: flex-end;width: 50%;}#sk-container-id-2 div.sk-parallel-item:last-child::after {align-self: flex-start;width: 50%;}#sk-container-id-2 div.sk-parallel-item:only-child::after {width: 0;}#sk-container-id-2 div.sk-dashed-wrapped {border: 1px dashed gray;margin: 0 0.4em 0.5em 0.4em;box-sizing: border-box;padding-bottom: 0.4em;background-color: white;}#sk-container-id-2 div.sk-label label {font-family: monospace;font-weight: bold;display: inline-block;line-height: 1.2em;}#sk-container-id-2 div.sk-label-container {text-align: center;}#sk-container-id-2 div.sk-container {/* jupyter's `normalize.less` sets `[hidden] { display: none; }` but bootstrap.min.css set `[hidden] { display: none !important; }` so we also need the `!important` here to be able to override the default hidden behavior on the sphinx rendered scikit-learn.org. See: https://github.com/scikit-learn/scikit-learn/issues/21755 */display: inline-block !important;position: relative;}#sk-container-id-2 div.sk-text-repr-fallback {display: none;}</style><div id=\"sk-container-id-2\" class=\"sk-top-container\"><div class=\"sk-text-repr-fallback\"><pre>DecisionTreeClassifier()</pre><b>In a Jupyter environment, please rerun this cell to show the HTML representation or trust the notebook. <br />On GitHub, the HTML representation is unable to render, please try loading this page with nbviewer.org.</b></div><div class=\"sk-container\" hidden><div class=\"sk-item\"><div class=\"sk-estimator sk-toggleable\"><input class=\"sk-toggleable__control sk-hidden--visually\" id=\"sk-estimator-id-2\" type=\"checkbox\" checked><label for=\"sk-estimator-id-2\" class=\"sk-toggleable__label sk-toggleable__label-arrow\">DecisionTreeClassifier</label><div class=\"sk-toggleable__content\"><pre>DecisionTreeClassifier()</pre></div></div></div></div></div>"
      ],
      "text/plain": [
       "DecisionTreeClassifier()"
      ]
     },
     "execution_count": 28,
     "metadata": {},
     "output_type": "execute_result"
    }
   ],
   "source": [
    "tree4.fit(X=df2.iloc[:, 0:-1].values, y=df2.iloc[:, -1].values)\n",
    "tree5.fit(X=df3.iloc[:, 0:-1].values, y=df3.iloc[:, -1].values)\n",
    "tree6.fit(X=df4.iloc[:, 0:-1].values, y=df4.iloc[:, -1].values)"
   ]
  },
  {
   "cell_type": "code",
   "execution_count": 29,
   "id": "9377c638",
   "metadata": {},
   "outputs": [
    {
     "data": {
      "text/plain": [
       "array([1])"
      ]
     },
     "execution_count": 29,
     "metadata": {},
     "output_type": "execute_result"
    }
   ],
   "source": [
    "tree4.predict(X=np.array([-1.295755, 2.420607, -0.922495, 0.752375]).reshape(1,4))"
   ]
  },
  {
   "cell_type": "code",
   "execution_count": 30,
   "id": "2a49dbd3",
   "metadata": {},
   "outputs": [
    {
     "data": {
      "text/plain": [
       "array([0])"
      ]
     },
     "execution_count": 30,
     "metadata": {},
     "output_type": "execute_result"
    }
   ],
   "source": [
    "tree5.predict(X=np.array([-1.295755, 2.420607, -0.922495, 0.752375]).reshape(1,4))"
   ]
  },
  {
   "cell_type": "code",
   "execution_count": 31,
   "id": "36d39677",
   "metadata": {},
   "outputs": [
    {
     "data": {
      "text/plain": [
       "array([0])"
      ]
     },
     "execution_count": 31,
     "metadata": {},
     "output_type": "execute_result"
    }
   ],
   "source": [
    "tree5.predict(X=np.array([-1.295755, 2.420607, -0.922495, 0.752375]).reshape(1,4))"
   ]
  },
  {
   "cell_type": "markdown",
   "id": "7f13330b",
   "metadata": {},
   "source": [
    "#### If you want to can apply combine sampling"
   ]
  },
  {
   "cell_type": "code",
   "execution_count": 32,
   "id": "482f7d80",
   "metadata": {},
   "outputs": [],
   "source": [
    "# function for combined sampling\n",
    "\n",
    "def combined_sampling(df, row_percent, col_percent):\n",
    "    new_df = sample_rows(df, row_percent)\n",
    "    return sample_features(new_df, col_percent)"
   ]
  },
  {
   "cell_type": "code",
   "execution_count": 33,
   "id": "da104c89",
   "metadata": {},
   "outputs": [
    {
     "data": {
      "text/html": [
       "<div>\n",
       "<style scoped>\n",
       "    .dataframe tbody tr th:only-of-type {\n",
       "        vertical-align: middle;\n",
       "    }\n",
       "\n",
       "    .dataframe tbody tr th {\n",
       "        vertical-align: top;\n",
       "    }\n",
       "\n",
       "    .dataframe thead th {\n",
       "        text-align: right;\n",
       "    }\n",
       "</style>\n",
       "<table border=\"1\" class=\"dataframe\">\n",
       "  <thead>\n",
       "    <tr style=\"text-align: right;\">\n",
       "      <th></th>\n",
       "      <th>col1</th>\n",
       "      <th>col2</th>\n",
       "      <th>col3</th>\n",
       "      <th>col4</th>\n",
       "      <th>col5</th>\n",
       "      <th>target</th>\n",
       "    </tr>\n",
       "  </thead>\n",
       "  <tbody>\n",
       "    <tr>\n",
       "      <th>57</th>\n",
       "      <td>-1.393605</td>\n",
       "      <td>1.473669</td>\n",
       "      <td>1.415379</td>\n",
       "      <td>-1.545434</td>\n",
       "      <td>-2.445713</td>\n",
       "      <td>1</td>\n",
       "    </tr>\n",
       "    <tr>\n",
       "      <th>10</th>\n",
       "      <td>1.180104</td>\n",
       "      <td>0.148790</td>\n",
       "      <td>2.574062</td>\n",
       "      <td>-3.594942</td>\n",
       "      <td>-0.626018</td>\n",
       "      <td>0</td>\n",
       "    </tr>\n",
       "    <tr>\n",
       "      <th>40</th>\n",
       "      <td>-0.383822</td>\n",
       "      <td>-0.427709</td>\n",
       "      <td>0.587856</td>\n",
       "      <td>-0.367044</td>\n",
       "      <td>-0.277228</td>\n",
       "      <td>0</td>\n",
       "    </tr>\n",
       "    <tr>\n",
       "      <th>9</th>\n",
       "      <td>-0.991033</td>\n",
       "      <td>0.481750</td>\n",
       "      <td>1.710977</td>\n",
       "      <td>-0.700749</td>\n",
       "      <td>0.305794</td>\n",
       "      <td>1</td>\n",
       "    </tr>\n",
       "  </tbody>\n",
       "</table>\n",
       "</div>"
      ],
      "text/plain": [
       "        col1      col2      col3      col4      col5  target\n",
       "57 -1.393605  1.473669  1.415379 -1.545434 -2.445713       1\n",
       "10  1.180104  0.148790  2.574062 -3.594942 -0.626018       0\n",
       "40 -0.383822 -0.427709  0.587856 -0.367044 -0.277228       0\n",
       "9  -0.991033  0.481750  1.710977 -0.700749  0.305794       1"
      ]
     },
     "execution_count": 33,
     "metadata": {},
     "output_type": "execute_result"
    }
   ],
   "source": [
    "# if replace=True then it will apply without replacement\n",
    "df.sample(n=4, replace=True)"
   ]
  },
  {
   "cell_type": "markdown",
   "id": "b6b3c059",
   "metadata": {},
   "source": [
    "https://scikit-learn.org/stable/modules/generated/sklearn.utils.random.sample_without_replacement.html"
   ]
  },
  {
   "cell_type": "code",
   "execution_count": 36,
   "id": "0cd55bd0",
   "metadata": {},
   "outputs": [],
   "source": [
    "from sklearn.utils.random import sample_without_replacement"
   ]
  },
  {
   "cell_type": "code",
   "execution_count": 39,
   "id": "068acce4",
   "metadata": {},
   "outputs": [
    {
     "data": {
      "text/plain": [
       "array([ 6, 72, 45, 63, 52, 32, 97, 23, 14, 22, 80, 21, 58, 94, 70, 25, 84,\n",
       "       77, 73,  3, 31, 48, 51, 92, 90, 66, 68, 69, 41, 13, 76, 99, 37, 29,\n",
       "       83, 43, 38, 42, 17, 98, 71, 95, 54, 53, 85, 46, 93, 34, 64, 62])"
      ]
     },
     "execution_count": 39,
     "metadata": {},
     "output_type": "execute_result"
    }
   ],
   "source": [
    "sample_without_replacement(df.shape[0], df.shape[0]*0.5)"
   ]
  },
  {
   "cell_type": "code",
   "execution_count": null,
   "id": "8c4d4811",
   "metadata": {},
   "outputs": [],
   "source": []
  }
 ],
 "metadata": {
  "kernelspec": {
   "display_name": "Python 3 (ipykernel)",
   "language": "python",
   "name": "python3"
  },
  "language_info": {
   "codemirror_mode": {
    "name": "ipython",
    "version": 3
   },
   "file_extension": ".py",
   "mimetype": "text/x-python",
   "name": "python",
   "nbconvert_exporter": "python",
   "pygments_lexer": "ipython3",
   "version": "3.10.9"
  }
 },
 "nbformat": 4,
 "nbformat_minor": 5
}
